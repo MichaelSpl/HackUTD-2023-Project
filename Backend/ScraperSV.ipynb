{
 "cells": [
  {
   "cell_type": "code",
   "execution_count": 77,
   "id": "19302571",
   "metadata": {},
   "outputs": [],
   "source": [
    "import pandas as pd\n",
    "import numpy as np\n",
    "from gnews import GNews"
   ]
  },
  {
   "cell_type": "code",
   "execution_count": 58,
   "id": "8ba64b69",
   "metadata": {},
   "outputs": [],
   "source": [
    "df = pd.read_csv('Data/G_S_Peaks.csv', delimiter='\\t')\n",
    "df[['Time', 'Goldman Sachs']] = df['Time,Goldman Sachs'].str.split(',', expand=True)"
   ]
  },
  {
   "cell_type": "code",
   "execution_count": 59,
   "id": "fc904c31",
   "metadata": {
    "scrolled": false
   },
   "outputs": [],
   "source": [
    "df['Time'] = pd.to_datetime(df['Time'], format='%Y-%m-%dT%H')"
   ]
  },
  {
   "cell_type": "code",
   "execution_count": 60,
   "id": "d906745e",
   "metadata": {},
   "outputs": [],
   "source": [
    "df['Year'] = df['Time'].dt.year\n",
    "df['Month'] = df['Time'].dt.month\n",
    "df['Day'] = df['Time'].dt.day"
   ]
  },
  {
   "cell_type": "code",
   "execution_count": 61,
   "id": "10b719e7",
   "metadata": {},
   "outputs": [],
   "source": [
    "dates = df[['Year', 'Month', 'Day']]\n"
   ]
  },
  {
   "cell_type": "code",
   "execution_count": 62,
   "id": "04f882e3",
   "metadata": {
    "scrolled": false
   },
   "outputs": [
    {
     "name": "stdout",
     "output_type": "stream",
     "text": [
      "   Year  Month  Day\n",
      "0  2023     10   31\n",
      "1  2023     11    1\n",
      "2  2023     11    2\n",
      "3  2023     11    2\n",
      "4  2023     11    2\n",
      "5  2023     11    2\n",
      "6  2023     11    3\n",
      "7  2023     11    3\n",
      "8  2023     11    4\n",
      "9  2023     11    4\n"
     ]
    }
   ],
   "source": [
    "print(dates)\n"
   ]
  },
  {
   "cell_type": "code",
   "execution_count": 93,
   "id": "7b2aa02e",
   "metadata": {},
   "outputs": [],
   "source": [
    "keyword = \"Goldman Sachs\"\n",
    "google_news = GNews()\n",
    "google_news.period = '1d' \n",
    "google_news.max_results = 10\n",
    "google_news.country = 'United States' \n",
    "google_news.language = 'english'\n",
    "\n",
    "#google_news.start_date = (2020, 1, 1)\n",
    "#google_news.end_date = (2020, 3, 1)\n",
    "result_list = []\n"
   ]
  },
  {
   "cell_type": "code",
   "execution_count": 94,
   "id": "05d13b9a",
   "metadata": {},
   "outputs": [
    {
     "name": "stderr",
     "output_type": "stream",
     "text": [
      "C:\\Users\\Cake\\AppData\\Local\\Temp\\ipykernel_3368\\237680837.py:12: UserWarning: \n",
      "Period (1d) will be ignored in favour of the start and end dates\n",
      "  news_results = google_news.get_news(keyword)\n"
     ]
    }
   ],
   "source": [
    "for index, row in dates.iterrows():\n",
    "    year = row['Year']\n",
    "    month = row['Month']\n",
    "    day = row['Day']\n",
    "\n",
    "    # Set the start_date and end_date for each iteration\n",
    "    start_date = (year, month, day)\n",
    "    google_news.start_date = start_date\n",
    "\n",
    "\n",
    "    # Now you can add your code to fetch and process the news for this date\n",
    "    news_results = google_news.get_news(keyword)\n",
    "\n",
    "    # Extract the links from news_results\n",
    "    links = [news['url'] for news in news_results[:10]]\n",
    "\n",
    "    # Create a row for the results with date and links\n",
    "    row_data = [f\"{year}-{month}-{day}\"] + links\n",
    "\n",
    "    # Append the row to the result_list\n",
    "    result_list.append(row_data)"
   ]
  },
  {
   "cell_type": "code",
   "execution_count": 95,
   "id": "72ee9b62",
   "metadata": {
    "scrolled": false
   },
   "outputs": [
    {
     "name": "stdout",
     "output_type": "stream",
     "text": [
      "         Date                                             Link_1  \\\n",
      "0  2023-10-31  https://news.google.com/rss/articles/CBMiZ2h0d...   \n",
      "1   2023-11-1  https://news.google.com/rss/articles/CBMiZ2h0d...   \n",
      "2   2023-11-2  https://news.google.com/rss/articles/CBMiZ2h0d...   \n",
      "3   2023-11-2  https://news.google.com/rss/articles/CBMiZ2h0d...   \n",
      "4   2023-11-2  https://news.google.com/rss/articles/CBMiZ2h0d...   \n",
      "5   2023-11-2  https://news.google.com/rss/articles/CBMiZ2h0d...   \n",
      "6   2023-11-3  https://news.google.com/rss/articles/CBMiZ2h0d...   \n",
      "7   2023-11-3  https://news.google.com/rss/articles/CBMiZ2h0d...   \n",
      "8   2023-11-4  https://news.google.com/rss/articles/CBMiTWh0d...   \n",
      "9   2023-11-4  https://news.google.com/rss/articles/CBMiTWh0d...   \n",
      "\n",
      "                                              Link_2  \\\n",
      "0  https://news.google.com/rss/articles/CBMiemh0d...   \n",
      "1  https://news.google.com/rss/articles/CBMiemh0d...   \n",
      "2  https://news.google.com/rss/articles/CBMiemh0d...   \n",
      "3  https://news.google.com/rss/articles/CBMiemh0d...   \n",
      "4  https://news.google.com/rss/articles/CBMiemh0d...   \n",
      "5  https://news.google.com/rss/articles/CBMiemh0d...   \n",
      "6  https://news.google.com/rss/articles/CBMiemh0d...   \n",
      "7  https://news.google.com/rss/articles/CBMiemh0d...   \n",
      "8  https://news.google.com/rss/articles/CBMilwFod...   \n",
      "9  https://news.google.com/rss/articles/CBMilwFod...   \n",
      "\n",
      "                                              Link_3  \\\n",
      "0  https://news.google.com/rss/articles/CBMiTWh0d...   \n",
      "1  https://news.google.com/rss/articles/CBMiTWh0d...   \n",
      "2  https://news.google.com/rss/articles/CBMiTWh0d...   \n",
      "3  https://news.google.com/rss/articles/CBMiTWh0d...   \n",
      "4  https://news.google.com/rss/articles/CBMiTWh0d...   \n",
      "5  https://news.google.com/rss/articles/CBMiTWh0d...   \n",
      "6  https://news.google.com/rss/articles/CBMiTWh0d...   \n",
      "7  https://news.google.com/rss/articles/CBMiTWh0d...   \n",
      "8  https://news.google.com/rss/articles/CBMifWh0d...   \n",
      "9  https://news.google.com/rss/articles/CBMifWh0d...   \n",
      "\n",
      "                                              Link_4  \\\n",
      "0  https://news.google.com/rss/articles/CBMiQ2h0d...   \n",
      "1  https://news.google.com/rss/articles/CBMiQ2h0d...   \n",
      "2  https://news.google.com/rss/articles/CBMiQ2h0d...   \n",
      "3  https://news.google.com/rss/articles/CBMiQ2h0d...   \n",
      "4  https://news.google.com/rss/articles/CBMiQ2h0d...   \n",
      "5  https://news.google.com/rss/articles/CBMiQ2h0d...   \n",
      "6  https://news.google.com/rss/articles/CBMiQ2h0d...   \n",
      "7  https://news.google.com/rss/articles/CBMiQ2h0d...   \n",
      "8  https://news.google.com/rss/articles/CBMiXmh0d...   \n",
      "9  https://news.google.com/rss/articles/CBMiXmh0d...   \n",
      "\n",
      "                                              Link_5  \\\n",
      "0  https://news.google.com/rss/articles/CBMiSmh0d...   \n",
      "1  https://news.google.com/rss/articles/CBMiSmh0d...   \n",
      "2  https://news.google.com/rss/articles/CBMiSmh0d...   \n",
      "3  https://news.google.com/rss/articles/CBMiSmh0d...   \n",
      "4  https://news.google.com/rss/articles/CBMiSmh0d...   \n",
      "5  https://news.google.com/rss/articles/CBMiSmh0d...   \n",
      "6  https://news.google.com/rss/articles/CBMidmh0d...   \n",
      "7  https://news.google.com/rss/articles/CBMidmh0d...   \n",
      "8  https://news.google.com/rss/articles/CBMicGh0d...   \n",
      "9  https://news.google.com/rss/articles/CBMicGh0d...   \n",
      "\n",
      "                                              Link_6  \\\n",
      "0  https://news.google.com/rss/articles/CBMiP2h0d...   \n",
      "1  https://news.google.com/rss/articles/CBMiP2h0d...   \n",
      "2  https://news.google.com/rss/articles/CBMib2h0d...   \n",
      "3  https://news.google.com/rss/articles/CBMib2h0d...   \n",
      "4  https://news.google.com/rss/articles/CBMib2h0d...   \n",
      "5  https://news.google.com/rss/articles/CBMib2h0d...   \n",
      "6  https://news.google.com/rss/articles/CBMibWh0d...   \n",
      "7  https://news.google.com/rss/articles/CBMibWh0d...   \n",
      "8  https://news.google.com/rss/articles/CBMifmh0d...   \n",
      "9  https://news.google.com/rss/articles/CBMifmh0d...   \n",
      "\n",
      "                                              Link_7  \\\n",
      "0  https://news.google.com/rss/articles/CBMib2h0d...   \n",
      "1  https://news.google.com/rss/articles/CBMib2h0d...   \n",
      "2  https://news.google.com/rss/articles/CBMiRWh0d...   \n",
      "3  https://news.google.com/rss/articles/CBMiRWh0d...   \n",
      "4  https://news.google.com/rss/articles/CBMiRWh0d...   \n",
      "5  https://news.google.com/rss/articles/CBMiRWh0d...   \n",
      "6  https://news.google.com/rss/articles/CBMicWh0d...   \n",
      "7  https://news.google.com/rss/articles/CBMicWh0d...   \n",
      "8  https://news.google.com/rss/articles/CBMiiQFod...   \n",
      "9  https://news.google.com/rss/articles/CBMiiQFod...   \n",
      "\n",
      "                                              Link_8  \\\n",
      "0  https://news.google.com/rss/articles/CBMiRWh0d...   \n",
      "1  https://news.google.com/rss/articles/CBMiRWh0d...   \n",
      "2  https://news.google.com/rss/articles/CBMiZ2h0d...   \n",
      "3  https://news.google.com/rss/articles/CBMiZ2h0d...   \n",
      "4  https://news.google.com/rss/articles/CBMiZ2h0d...   \n",
      "5  https://news.google.com/rss/articles/CBMiZ2h0d...   \n",
      "6  https://news.google.com/rss/articles/CBMigwFod...   \n",
      "7  https://news.google.com/rss/articles/CBMigwFod...   \n",
      "8  https://news.google.com/rss/articles/CBMioQFod...   \n",
      "9  https://news.google.com/rss/articles/CBMioQFod...   \n",
      "\n",
      "                                              Link_9  \\\n",
      "0  https://news.google.com/rss/articles/CBMigwFod...   \n",
      "1  https://news.google.com/rss/articles/CBMigwFod...   \n",
      "2  https://news.google.com/rss/articles/CBMigwFod...   \n",
      "3  https://news.google.com/rss/articles/CBMigwFod...   \n",
      "4  https://news.google.com/rss/articles/CBMigwFod...   \n",
      "5  https://news.google.com/rss/articles/CBMigwFod...   \n",
      "6  https://news.google.com/rss/articles/CBMiVWh0d...   \n",
      "7  https://news.google.com/rss/articles/CBMiVWh0d...   \n",
      "8  https://news.google.com/rss/articles/CBMiP2h0d...   \n",
      "9  https://news.google.com/rss/articles/CBMiP2h0d...   \n",
      "\n",
      "                                             Link_10  \n",
      "0  https://news.google.com/rss/articles/CBMiVWh0d...  \n",
      "1  https://news.google.com/rss/articles/CBMiVWh0d...  \n",
      "2  https://news.google.com/rss/articles/CBMiVWh0d...  \n",
      "3  https://news.google.com/rss/articles/CBMiVWh0d...  \n",
      "4  https://news.google.com/rss/articles/CBMiVWh0d...  \n",
      "5  https://news.google.com/rss/articles/CBMiVWh0d...  \n",
      "6  https://news.google.com/rss/articles/CBMiVGh0d...  \n",
      "7  https://news.google.com/rss/articles/CBMiVGh0d...  \n",
      "8  https://news.google.com/rss/articles/CBMie2h0d...  \n",
      "9  https://news.google.com/rss/articles/CBMie2h0d...  \n"
     ]
    }
   ],
   "source": [
    "# Convert the list to a DataFrame\n",
    "column_names = ['Date'] + [f'Link_{i}' for i in range(1, 11)]\n",
    "result_df = pd.DataFrame(result_list, columns=column_names)\n",
    "\n",
    "# Now you have a DataFrame with 11 columns, including the date and up to 10 links\n",
    "print(result_df)"
   ]
  },
  {
   "cell_type": "code",
   "execution_count": null,
   "id": "c96b7a64",
   "metadata": {},
   "outputs": [],
   "source": []
  }
 ],
 "metadata": {
  "kernelspec": {
   "display_name": "Python 3 (ipykernel)",
   "language": "python",
   "name": "python3"
  },
  "language_info": {
   "codemirror_mode": {
    "name": "ipython",
    "version": 3
   },
   "file_extension": ".py",
   "mimetype": "text/x-python",
   "name": "python",
   "nbconvert_exporter": "python",
   "pygments_lexer": "ipython3",
   "version": "3.10.12"
  }
 },
 "nbformat": 4,
 "nbformat_minor": 5
}
