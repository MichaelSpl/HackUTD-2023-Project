{
 "cells": [
  {
   "cell_type": "code",
   "execution_count": 8,
   "id": "52d1496a",
   "metadata": {
    "scrolled": true
   },
   "outputs": [
    {
     "name": "stdout",
     "output_type": "stream",
     "text": [
      "                   Time  Goldman Sachs\n",
      "3   2023-10-29 01:00:00             26\n",
      "8   2023-10-29 06:00:00             25\n",
      "12  2023-10-29 10:00:00             26\n",
      "16  2023-10-29 14:00:00             25\n",
      "18  2023-10-29 16:00:00             27\n",
      "22  2023-10-29 20:00:00             30\n",
      "27  2023-10-30 01:00:00             37\n",
      "30  2023-10-30 04:00:00             31\n",
      "37  2023-10-30 11:00:00             51\n",
      "40  2023-10-30 14:00:00             52\n",
      "46  2023-10-30 20:00:00             36\n",
      "49  2023-10-30 23:00:00             41\n",
      "54  2023-10-31 04:00:00             29\n",
      "59  2023-10-31 09:00:00             50\n",
      "62  2023-10-31 12:00:00             54\n",
      "64  2023-10-31 14:00:00             52\n",
      "72  2023-10-31 22:00:00             41\n",
      "75  2023-11-01 01:00:00             39\n",
      "78  2023-11-01 04:00:00             36\n",
      "87  2023-11-01 13:00:00             60\n",
      "89  2023-11-01 15:00:00             60\n",
      "94  2023-11-01 20:00:00             43\n",
      "97  2023-11-01 23:00:00             43\n",
      "99  2023-11-02 01:00:00             43\n",
      "101 2023-11-02 03:00:00             44\n",
      "107 2023-11-02 09:00:00             68\n",
      "112 2023-11-02 14:00:00            100\n",
      "117 2023-11-02 19:00:00             47\n",
      "120 2023-11-02 22:00:00             51\n",
      "122 2023-11-03 00:00:00             45\n",
      "125 2023-11-03 03:00:00             39\n",
      "127 2023-11-03 05:00:00             39\n",
      "129 2023-11-03 07:00:00             59\n",
      "131 2023-11-03 09:00:00             58\n",
      "134 2023-11-03 12:00:00             53\n",
      "137 2023-11-03 15:00:00             55\n",
      "143 2023-11-03 21:00:00             38\n",
      "148 2023-11-04 02:00:00             40\n",
      "151 2023-11-04 05:00:00             16\n",
      "154 2023-11-04 08:00:00             16\n",
      "158 2023-11-04 12:00:00             14\n",
      "160 2023-11-04 14:00:00             13\n",
      "163 2023-11-04 17:00:00             24\n",
      "166 2023-11-04 20:00:00             22\n"
     ]
    }
   ],
   "source": [
    "import pandas as pd\n",
    "\n",
    "\n",
    "csv_file_path = 'Data/Goldman_Sachs_Trends.csv'\n",
    "output_file_path = 'Data/G_S_Peaks.csv'\n",
    "\n",
    "df = pd.read_csv(csv_file_path)\n",
    "\n",
    "df['Time'] = pd.to_datetime(df['Time'], format='%Y-%m-%dT%H')\n",
    "\n",
    "# Filter the data to keep rows where the value is greater than its left and right neighbors\n",
    "filtered_df = df[(df['Goldman Sachs'] > df['Goldman Sachs'].shift(1)) & (df['Goldman Sachs'] > df['Goldman Sachs'].shift(-1))]\n",
    "\n",
    "print(filtered_df)"
   ]
  },
  {
   "cell_type": "code",
   "execution_count": 10,
   "id": "ead3a292",
   "metadata": {},
   "outputs": [
    {
     "name": "stdout",
     "output_type": "stream",
     "text": [
      "    Count Absolute_Difference_To_Previous  Count Absolute_Difference_To_Next\n",
      "0                                     NaN                                4.0\n",
      "1                                    10.0                               13.0\n",
      "2                                    22.0                               15.0\n",
      "3                                    10.0                               15.0\n",
      "4                                    10.0                                5.0\n",
      "5                                    11.0                                7.0\n",
      "6                                     3.0                                5.0\n",
      "7                                     3.0                                2.0\n",
      "8                                     3.0                                4.0\n",
      "9                                     2.0                                3.0\n",
      "10                                    NaN                                1.0\n",
      "11                                    1.0                                2.0\n",
      "12                                    1.0                                2.0\n",
      "13                                    2.0                                NaN\n",
      "14                                    1.0                                1.0\n",
      "18                                    NaN                                1.0\n",
      "20                                    2.0                                1.0\n",
      "21                                    2.0                                1.0\n",
      "30                                    NaN                                1.0\n"
     ]
    }
   ],
   "source": [
    "peak_indices = df.index[df['Goldman Sachs'] > df['Goldman Sachs'].shift(1)]\n",
    "\n",
    "differences = {}\n",
    "\n",
    "for peak_index in peak_indices:\n",
    "    peak_value = df.at[peak_index, 'Goldman Sachs']\n",
    "    previous_value = df.at[peak_index - 1, 'Goldman Sachs']\n",
    "    next_value = df.at[peak_index + 1, 'Goldman Sachs']\n",
    "\n",
    "    diff_to_previous = peak_value - previous_value\n",
    "    diff_to_next = peak_value - next_value\n",
    "    \n",
    "\n",
    "    abs_diff_to_previous = abs(diff_to_previous)\n",
    "    abs_diff_to_next = abs(diff_to_next)\n",
    "    \n",
    "    differences[peak_index] = {\n",
    "        'AbsoluteDifferenceToPrevious': abs_diff_to_previous,\n",
    "        'AbsoluteDifferenceToNext': abs_diff_to_next\n",
    "    }\n",
    "\n",
    "differences_df = pd.DataFrame.from_dict(differences, orient='index')\n",
    "\n",
    "count_abs_diff_to_previous = differences_df['AbsoluteDifferenceToPrevious'].value_counts()\n",
    "count_abs_diff_to_next = differences_df['AbsoluteDifferenceToNext'].value_counts()\n",
    "\n",
    "tally_df = pd.DataFrame({\n",
    "    'Count Absolute_Difference_To_Previous': count_abs_diff_to_previous,\n",
    "    'Count Absolute_Difference_To_Next': count_abs_diff_to_next\n",
    "})\n",
    "\n",
    "print(tally_df)"
   ]
  },
  {
   "cell_type": "code",
   "execution_count": 12,
   "id": "9a7e5255",
   "metadata": {
    "scrolled": true
   },
   "outputs": [
    {
     "name": "stdout",
     "output_type": "stream",
     "text": [
      "                   Time  Goldman Sachs\n",
      "59  2023-10-31 09:00:00             50\n",
      "75  2023-11-01 01:00:00             39\n",
      "101 2023-11-02 03:00:00             44\n",
      "107 2023-11-02 09:00:00             68\n",
      "112 2023-11-02 14:00:00            100\n",
      "120 2023-11-02 22:00:00             51\n",
      "129 2023-11-03 07:00:00             59\n",
      "137 2023-11-03 15:00:00             55\n",
      "148 2023-11-04 02:00:00             40\n",
      "163 2023-11-04 17:00:00             24\n"
     ]
    }
   ],
   "source": [
    "# Convert the dictionary to a pandas DataFrame\n",
    "differences_df = pd.DataFrame.from_dict(differences, orient='index')\n",
    "\n",
    "filtered_peaks_df = filtered_df.loc[\n",
    "    (differences_df['AbsoluteDifferenceToPrevious'] >= 4) &\n",
    "    (differences_df['AbsoluteDifferenceToNext'] >= 4)\n",
    "]\n",
    "\n",
    "print(filtered_peaks_df)\n"
   ]
  },
  {
   "cell_type": "code",
   "execution_count": 14,
   "id": "c190459c",
   "metadata": {},
   "outputs": [],
   "source": [
    "filtered_peaks_df.to_csv(output_file_path, index=False)"
   ]
  },
  {
   "cell_type": "code",
   "execution_count": null,
   "id": "1b7c6c0b",
   "metadata": {},
   "outputs": [],
   "source": []
  }
 ],
 "metadata": {
  "kernelspec": {
   "display_name": "Python 3 (ipykernel)",
   "language": "python",
   "name": "python3"
  },
  "language_info": {
   "codemirror_mode": {
    "name": "ipython",
    "version": 3
   },
   "file_extension": ".py",
   "mimetype": "text/x-python",
   "name": "python",
   "nbconvert_exporter": "python",
   "pygments_lexer": "ipython3",
   "version": "3.10.12"
  }
 },
 "nbformat": 4,
 "nbformat_minor": 5
}
