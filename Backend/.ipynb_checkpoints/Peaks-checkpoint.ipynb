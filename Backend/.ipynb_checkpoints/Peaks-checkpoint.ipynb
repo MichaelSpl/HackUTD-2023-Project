{
 "cells": [
  {
   "cell_type": "code",
   "execution_count": 6,
   "id": "85c18aa1",
   "metadata": {},
   "outputs": [],
   "source": [
    "import pandas as pd\n",
    "\n",
    "\n",
    "csv_file_path = 'Data/Goldman_Sachs_Trends.csv'\n",
    "output_file_path = 'Data/G_S_Peaks.csv'\n",
    "\n",
    "df = pd.read_csv(csv_file_path)\n",
    "\n",
    "df['Time'] = pd.to_datetime(df['Time'], format='%Y-%m-%dT%H')\n",
    "\n",
    "# Filter the data to keep rows where the value is greater than its left and right neighbors\n",
    "filtered_df = df[(df['Goldman Sachs'] > df['Goldman Sachs'].shift(1)) & (df['Goldman Sachs'] > df['Goldman Sachs'].shift(-1))]\n",
    "\n",
    "\n",
    "filtered_df.to_csv(output_file_path, index=False)"
   ]
  },
  {
   "cell_type": "code",
   "execution_count": null,
   "id": "7924ab6c",
   "metadata": {},
   "outputs": [],
   "source": []
  }
 ],
 "metadata": {
  "kernelspec": {
   "display_name": "Python 3 (ipykernel)",
   "language": "python",
   "name": "python3"
  },
  "language_info": {
   "codemirror_mode": {
    "name": "ipython",
    "version": 3
   },
   "file_extension": ".py",
   "mimetype": "text/x-python",
   "name": "python",
   "nbconvert_exporter": "python",
   "pygments_lexer": "ipython3",
   "version": "3.10.12"
  }
 },
 "nbformat": 4,
 "nbformat_minor": 5
}
